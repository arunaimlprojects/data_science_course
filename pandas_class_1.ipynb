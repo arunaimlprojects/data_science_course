{
 "cells": [
  {
   "cell_type": "markdown",
   "id": "a89aefaa-03b3-4772-9584-9363d269ba6a",
   "metadata": {},
   "source": [
    "import dependencies"
   ]
  },
  {
   "cell_type": "code",
   "execution_count": 1,
   "id": "8a4d2c92-4781-427f-ae21-eae563223f58",
   "metadata": {},
   "outputs": [],
   "source": [
    "import pandas as pd\n",
    "import numpy as np\n",
    "import matplotlib.pyplot as plt\n",
    "import seaborn as sns\n",
    "import warnings\n",
    "warnings.filterwarnings(\"ignore\")"
   ]
  },
  {
   "cell_type": "markdown",
   "id": "5f8c3871-0703-4fa2-8193-45f1a86a5de6",
   "metadata": {},
   "source": [
    "data loading"
   ]
  },
  {
   "cell_type": "code",
   "execution_count": 2,
   "id": "33c06e7e-f875-4c68-ad7e-d024493a2114",
   "metadata": {},
   "outputs": [
    {
     "data": {
      "text/html": [
       "<div>\n",
       "<style scoped>\n",
       "    .dataframe tbody tr th:only-of-type {\n",
       "        vertical-align: middle;\n",
       "    }\n",
       "\n",
       "    .dataframe tbody tr th {\n",
       "        vertical-align: top;\n",
       "    }\n",
       "\n",
       "    .dataframe thead th {\n",
       "        text-align: right;\n",
       "    }\n",
       "</style>\n",
       "<table border=\"1\" class=\"dataframe\">\n",
       "  <thead>\n",
       "    <tr style=\"text-align: right;\">\n",
       "      <th></th>\n",
       "      <th>Name</th>\n",
       "      <th>Age</th>\n",
       "      <th>Salary</th>\n",
       "      <th>City</th>\n",
       "    </tr>\n",
       "  </thead>\n",
       "  <tbody>\n",
       "    <tr>\n",
       "      <th>0</th>\n",
       "      <td>Arun</td>\n",
       "      <td>25</td>\n",
       "      <td>50000</td>\n",
       "      <td>Noida</td>\n",
       "    </tr>\n",
       "    <tr>\n",
       "      <th>1</th>\n",
       "      <td>Ravi</td>\n",
       "      <td>30</td>\n",
       "      <td>60000</td>\n",
       "      <td>Delhi</td>\n",
       "    </tr>\n",
       "    <tr>\n",
       "      <th>2</th>\n",
       "      <td>Mohan</td>\n",
       "      <td>22</td>\n",
       "      <td>52000</td>\n",
       "      <td>Mumbai</td>\n",
       "    </tr>\n",
       "    <tr>\n",
       "      <th>3</th>\n",
       "      <td>Sita</td>\n",
       "      <td>28</td>\n",
       "      <td>58000</td>\n",
       "      <td>Chennai</td>\n",
       "    </tr>\n",
       "    <tr>\n",
       "      <th>4</th>\n",
       "      <td>Geeta</td>\n",
       "      <td>24</td>\n",
       "      <td>55000</td>\n",
       "      <td>Pune</td>\n",
       "    </tr>\n",
       "  </tbody>\n",
       "</table>\n",
       "</div>"
      ],
      "text/plain": [
       "    Name  Age  Salary     City\n",
       "0   Arun   25   50000    Noida\n",
       "1   Ravi   30   60000    Delhi\n",
       "2  Mohan   22   52000   Mumbai\n",
       "3   Sita   28   58000  Chennai\n",
       "4  Geeta   24   55000     Pune"
      ]
     },
     "execution_count": 2,
     "metadata": {},
     "output_type": "execute_result"
    }
   ],
   "source": [
    "data = {\n",
    "    'Name': ['Arun', 'Ravi', 'Mohan', 'Sita', 'Geeta'],\n",
    "    'Age': [25, 30, 22, 28, 24],\n",
    "    'Salary': [50000, 60000, 52000, 58000, 55000],\n",
    "    'City': ['Noida', 'Delhi', 'Mumbai', 'Chennai', 'Pune']\n",
    "}\n",
    "df = pd.DataFrame(data)\n",
    "df"
   ]
  },
  {
   "cell_type": "code",
   "execution_count": 3,
   "id": "3f60c8d4-131d-48c1-9073-f3df9d566c70",
   "metadata": {},
   "outputs": [],
   "source": [
    "#how to save data in diffrent format\n",
    "df.to_csv('my_data.csv')#csv format"
   ]
  },
  {
   "cell_type": "code",
   "execution_count": 4,
   "id": "c87c6aec-3e0b-45eb-967b-9254a99b5c1f",
   "metadata": {},
   "outputs": [],
   "source": [
    "#how to save excel format\n",
    "df.to_excel('my_data.xlsx')#excel format save"
   ]
  },
  {
   "cell_type": "code",
   "execution_count": 5,
   "id": "8ba48744-d4ec-49d2-b7b5-8a0640c712bf",
   "metadata": {},
   "outputs": [],
   "source": [
    "#how to save html format\n",
    "df.to_html('my_data.html')"
   ]
  },
  {
   "cell_type": "code",
   "execution_count": 6,
   "id": "85218f75-514b-4658-9ddb-36b17b207733",
   "metadata": {},
   "outputs": [],
   "source": [
    "#how to save json format\n",
    "df.to_json('my_data.json')"
   ]
  },
  {
   "cell_type": "markdown",
   "id": "4f136c1c-afd3-4eb4-baa6-4b6fcdb34659",
   "metadata": {},
   "source": [
    "how to load data diffent format"
   ]
  },
  {
   "cell_type": "code",
   "execution_count": 8,
   "id": "d92b59c1-285b-4c11-bacc-d4e69d0fec7e",
   "metadata": {},
   "outputs": [],
   "source": [
    "data_csv = pd.read_csv('my_data.csv')\n",
    "data_html = pd.read_html('my_data.html')\n",
    "data_json = pd.read_json('my_data.json')\n",
    "excel_data = pd.read_excel('my_data.xlsx')"
   ]
  },
  {
   "cell_type": "code",
   "execution_count": 9,
   "id": "e7e92b36-cf23-4447-a801-c34b579a3be5",
   "metadata": {},
   "outputs": [
    {
     "data": {
      "text/html": [
       "<div>\n",
       "<style scoped>\n",
       "    .dataframe tbody tr th:only-of-type {\n",
       "        vertical-align: middle;\n",
       "    }\n",
       "\n",
       "    .dataframe tbody tr th {\n",
       "        vertical-align: top;\n",
       "    }\n",
       "\n",
       "    .dataframe thead th {\n",
       "        text-align: right;\n",
       "    }\n",
       "</style>\n",
       "<table border=\"1\" class=\"dataframe\">\n",
       "  <thead>\n",
       "    <tr style=\"text-align: right;\">\n",
       "      <th></th>\n",
       "      <th>Unnamed: 0</th>\n",
       "      <th>Name</th>\n",
       "      <th>Age</th>\n",
       "      <th>Salary</th>\n",
       "      <th>City</th>\n",
       "    </tr>\n",
       "  </thead>\n",
       "  <tbody>\n",
       "    <tr>\n",
       "      <th>0</th>\n",
       "      <td>0</td>\n",
       "      <td>Arun</td>\n",
       "      <td>25</td>\n",
       "      <td>50000</td>\n",
       "      <td>Noida</td>\n",
       "    </tr>\n",
       "    <tr>\n",
       "      <th>1</th>\n",
       "      <td>1</td>\n",
       "      <td>Ravi</td>\n",
       "      <td>30</td>\n",
       "      <td>60000</td>\n",
       "      <td>Delhi</td>\n",
       "    </tr>\n",
       "    <tr>\n",
       "      <th>2</th>\n",
       "      <td>2</td>\n",
       "      <td>Mohan</td>\n",
       "      <td>22</td>\n",
       "      <td>52000</td>\n",
       "      <td>Mumbai</td>\n",
       "    </tr>\n",
       "    <tr>\n",
       "      <th>3</th>\n",
       "      <td>3</td>\n",
       "      <td>Sita</td>\n",
       "      <td>28</td>\n",
       "      <td>58000</td>\n",
       "      <td>Chennai</td>\n",
       "    </tr>\n",
       "    <tr>\n",
       "      <th>4</th>\n",
       "      <td>4</td>\n",
       "      <td>Geeta</td>\n",
       "      <td>24</td>\n",
       "      <td>55000</td>\n",
       "      <td>Pune</td>\n",
       "    </tr>\n",
       "  </tbody>\n",
       "</table>\n",
       "</div>"
      ],
      "text/plain": [
       "   Unnamed: 0   Name  Age  Salary     City\n",
       "0           0   Arun   25   50000    Noida\n",
       "1           1   Ravi   30   60000    Delhi\n",
       "2           2  Mohan   22   52000   Mumbai\n",
       "3           3   Sita   28   58000  Chennai\n",
       "4           4  Geeta   24   55000     Pune"
      ]
     },
     "execution_count": 9,
     "metadata": {},
     "output_type": "execute_result"
    }
   ],
   "source": [
    "data_csv"
   ]
  },
  {
   "cell_type": "markdown",
   "id": "5cfd9f5e-e04d-43d0-b72e-9f47c4ac74ce",
   "metadata": {},
   "source": [
    "data explore"
   ]
  },
  {
   "cell_type": "code",
   "execution_count": 10,
   "id": "7db54c51-304a-4adb-9c3a-6b2bf7307ac6",
   "metadata": {},
   "outputs": [
    {
     "name": "stdout",
     "output_type": "stream",
     "text": [
      "(5, 5)\n"
     ]
    }
   ],
   "source": [
    "#head\n",
    "#shape\n",
    "#describe\n",
    "#info\n",
    "#coulumns\n",
    "#null values\n",
    "print(data_csv.shape)\n"
   ]
  },
  {
   "cell_type": "code",
   "execution_count": 11,
   "id": "dbce2986-b367-4ec9-bbb9-41f8d0a57451",
   "metadata": {},
   "outputs": [
    {
     "name": "stdout",
     "output_type": "stream",
     "text": [
      "<class 'pandas.core.frame.DataFrame'>\n",
      "RangeIndex: 5 entries, 0 to 4\n",
      "Data columns (total 5 columns):\n",
      " #   Column      Non-Null Count  Dtype \n",
      "---  ------      --------------  ----- \n",
      " 0   Unnamed: 0  5 non-null      int64 \n",
      " 1   Name        5 non-null      object\n",
      " 2   Age         5 non-null      int64 \n",
      " 3   Salary      5 non-null      int64 \n",
      " 4   City        5 non-null      object\n",
      "dtypes: int64(3), object(2)\n",
      "memory usage: 332.0+ bytes\n"
     ]
    }
   ],
   "source": [
    "data_csv.info()"
   ]
  },
  {
   "cell_type": "code",
   "execution_count": 12,
   "id": "88cf18a7-efe0-4640-8928-60c649602a2d",
   "metadata": {},
   "outputs": [
    {
     "data": {
      "text/plain": [
       "Index(['Unnamed: 0', 'Name', 'Age', 'Salary', 'City'], dtype='object')"
      ]
     },
     "execution_count": 12,
     "metadata": {},
     "output_type": "execute_result"
    }
   ],
   "source": [
    "data_csv.columns"
   ]
  },
  {
   "cell_type": "code",
   "execution_count": 13,
   "id": "aa69319d-a992-43d2-ae08-b4ffa1df6797",
   "metadata": {},
   "outputs": [
    {
     "data": {
      "text/html": [
       "<div>\n",
       "<style scoped>\n",
       "    .dataframe tbody tr th:only-of-type {\n",
       "        vertical-align: middle;\n",
       "    }\n",
       "\n",
       "    .dataframe tbody tr th {\n",
       "        vertical-align: top;\n",
       "    }\n",
       "\n",
       "    .dataframe thead th {\n",
       "        text-align: right;\n",
       "    }\n",
       "</style>\n",
       "<table border=\"1\" class=\"dataframe\">\n",
       "  <thead>\n",
       "    <tr style=\"text-align: right;\">\n",
       "      <th></th>\n",
       "      <th>Unnamed: 0</th>\n",
       "      <th>Age</th>\n",
       "      <th>Salary</th>\n",
       "    </tr>\n",
       "  </thead>\n",
       "  <tbody>\n",
       "    <tr>\n",
       "      <th>count</th>\n",
       "      <td>5.000000</td>\n",
       "      <td>5.000000</td>\n",
       "      <td>5.000000</td>\n",
       "    </tr>\n",
       "    <tr>\n",
       "      <th>mean</th>\n",
       "      <td>2.000000</td>\n",
       "      <td>25.800000</td>\n",
       "      <td>55000.000000</td>\n",
       "    </tr>\n",
       "    <tr>\n",
       "      <th>std</th>\n",
       "      <td>1.581139</td>\n",
       "      <td>3.193744</td>\n",
       "      <td>4123.105626</td>\n",
       "    </tr>\n",
       "    <tr>\n",
       "      <th>min</th>\n",
       "      <td>0.000000</td>\n",
       "      <td>22.000000</td>\n",
       "      <td>50000.000000</td>\n",
       "    </tr>\n",
       "    <tr>\n",
       "      <th>25%</th>\n",
       "      <td>1.000000</td>\n",
       "      <td>24.000000</td>\n",
       "      <td>52000.000000</td>\n",
       "    </tr>\n",
       "    <tr>\n",
       "      <th>50%</th>\n",
       "      <td>2.000000</td>\n",
       "      <td>25.000000</td>\n",
       "      <td>55000.000000</td>\n",
       "    </tr>\n",
       "    <tr>\n",
       "      <th>75%</th>\n",
       "      <td>3.000000</td>\n",
       "      <td>28.000000</td>\n",
       "      <td>58000.000000</td>\n",
       "    </tr>\n",
       "    <tr>\n",
       "      <th>max</th>\n",
       "      <td>4.000000</td>\n",
       "      <td>30.000000</td>\n",
       "      <td>60000.000000</td>\n",
       "    </tr>\n",
       "  </tbody>\n",
       "</table>\n",
       "</div>"
      ],
      "text/plain": [
       "       Unnamed: 0        Age        Salary\n",
       "count    5.000000   5.000000      5.000000\n",
       "mean     2.000000  25.800000  55000.000000\n",
       "std      1.581139   3.193744   4123.105626\n",
       "min      0.000000  22.000000  50000.000000\n",
       "25%      1.000000  24.000000  52000.000000\n",
       "50%      2.000000  25.000000  55000.000000\n",
       "75%      3.000000  28.000000  58000.000000\n",
       "max      4.000000  30.000000  60000.000000"
      ]
     },
     "execution_count": 13,
     "metadata": {},
     "output_type": "execute_result"
    }
   ],
   "source": [
    "data_csv.describe()"
   ]
  },
  {
   "cell_type": "code",
   "execution_count": 14,
   "id": "b8b6979b-ca91-4ae3-b989-f784066de5f3",
   "metadata": {},
   "outputs": [
    {
     "data": {
      "text/plain": [
       "Unnamed: 0    0\n",
       "Name          0\n",
       "Age           0\n",
       "Salary        0\n",
       "City          0\n",
       "dtype: int64"
      ]
     },
     "execution_count": 14,
     "metadata": {},
     "output_type": "execute_result"
    }
   ],
   "source": [
    "data_csv.isnull().sum()"
   ]
  },
  {
   "cell_type": "code",
   "execution_count": 16,
   "id": "3c5ebe10-bcd2-4472-b9d4-61aacb675015",
   "metadata": {},
   "outputs": [
    {
     "data": {
      "text/plain": [
       "0"
      ]
     },
     "execution_count": 16,
     "metadata": {},
     "output_type": "execute_result"
    }
   ],
   "source": [
    "data_csv.duplicated().sum()"
   ]
  },
  {
   "cell_type": "raw",
   "id": "869cc1a7-9998-4fef-96c8-4bdc41b56fae",
   "metadata": {},
   "source": [
    "Top 5 rows dekhna: df.head()\n",
    "Last 5 rows dekhna: df.tail()\n",
    "Data ka size dekhna: df.shape\n",
    "Summary dekhna: df.info()\n",
    "Statistical summary: df.describe()\n",
    "Columns list dekhna: df.columns\n",
    "Missing values check karna: df.isnull().sum()"
   ]
  },
  {
   "cell_type": "markdown",
   "id": "0ddf1a3f-8644-4438-96bd-baa78991f522",
   "metadata": {},
   "source": [
    "data cleaning"
   ]
  },
  {
   "cell_type": "raw",
   "id": "b6b4f0be-7587-443a-839e-0b9908f720c5",
   "metadata": {},
   "source": [
    "Duplicate rows hatana: df.drop_duplicates(inplace=True)\n",
    "Missing values fill karna: df.fillna(value, inplace=True)\n",
    "Missing values hataana: df.dropna(inplace=True)\n",
    "Data type badalna: df['column'] = df['column'].astype(int)"
   ]
  },
  {
   "cell_type": "code",
   "execution_count": 17,
   "id": "e971d28d-e1c2-43db-bbaf-60b9ad142a37",
   "metadata": {},
   "outputs": [
    {
     "data": {
      "text/html": [
       "<div>\n",
       "<style scoped>\n",
       "    .dataframe tbody tr th:only-of-type {\n",
       "        vertical-align: middle;\n",
       "    }\n",
       "\n",
       "    .dataframe tbody tr th {\n",
       "        vertical-align: top;\n",
       "    }\n",
       "\n",
       "    .dataframe thead th {\n",
       "        text-align: right;\n",
       "    }\n",
       "</style>\n",
       "<table border=\"1\" class=\"dataframe\">\n",
       "  <thead>\n",
       "    <tr style=\"text-align: right;\">\n",
       "      <th></th>\n",
       "      <th>Unnamed: 0</th>\n",
       "      <th>Name</th>\n",
       "      <th>Age</th>\n",
       "      <th>Salary</th>\n",
       "      <th>City</th>\n",
       "    </tr>\n",
       "  </thead>\n",
       "  <tbody>\n",
       "    <tr>\n",
       "      <th>0</th>\n",
       "      <td>0</td>\n",
       "      <td>Arun</td>\n",
       "      <td>25</td>\n",
       "      <td>50000</td>\n",
       "      <td>Noida</td>\n",
       "    </tr>\n",
       "    <tr>\n",
       "      <th>1</th>\n",
       "      <td>1</td>\n",
       "      <td>Ravi</td>\n",
       "      <td>30</td>\n",
       "      <td>60000</td>\n",
       "      <td>Delhi</td>\n",
       "    </tr>\n",
       "    <tr>\n",
       "      <th>2</th>\n",
       "      <td>2</td>\n",
       "      <td>Mohan</td>\n",
       "      <td>22</td>\n",
       "      <td>52000</td>\n",
       "      <td>Mumbai</td>\n",
       "    </tr>\n",
       "    <tr>\n",
       "      <th>3</th>\n",
       "      <td>3</td>\n",
       "      <td>Sita</td>\n",
       "      <td>28</td>\n",
       "      <td>58000</td>\n",
       "      <td>Chennai</td>\n",
       "    </tr>\n",
       "    <tr>\n",
       "      <th>4</th>\n",
       "      <td>4</td>\n",
       "      <td>Geeta</td>\n",
       "      <td>24</td>\n",
       "      <td>55000</td>\n",
       "      <td>Pune</td>\n",
       "    </tr>\n",
       "  </tbody>\n",
       "</table>\n",
       "</div>"
      ],
      "text/plain": [
       "   Unnamed: 0   Name  Age  Salary     City\n",
       "0           0   Arun   25   50000    Noida\n",
       "1           1   Ravi   30   60000    Delhi\n",
       "2           2  Mohan   22   52000   Mumbai\n",
       "3           3   Sita   28   58000  Chennai\n",
       "4           4  Geeta   24   55000     Pune"
      ]
     },
     "execution_count": 17,
     "metadata": {},
     "output_type": "execute_result"
    }
   ],
   "source": [
    "data_csv"
   ]
  },
  {
   "cell_type": "code",
   "execution_count": 18,
   "id": "0ad9da83-74e5-469c-a030-fdd04d0e17fc",
   "metadata": {},
   "outputs": [],
   "source": [
    "data_csv.drop(['Unnamed: 0'],axis=1,inplace= True)"
   ]
  },
  {
   "cell_type": "code",
   "execution_count": 19,
   "id": "90936b2e-9fde-45e5-ba64-f146443cb34f",
   "metadata": {},
   "outputs": [
    {
     "data": {
      "text/html": [
       "<div>\n",
       "<style scoped>\n",
       "    .dataframe tbody tr th:only-of-type {\n",
       "        vertical-align: middle;\n",
       "    }\n",
       "\n",
       "    .dataframe tbody tr th {\n",
       "        vertical-align: top;\n",
       "    }\n",
       "\n",
       "    .dataframe thead th {\n",
       "        text-align: right;\n",
       "    }\n",
       "</style>\n",
       "<table border=\"1\" class=\"dataframe\">\n",
       "  <thead>\n",
       "    <tr style=\"text-align: right;\">\n",
       "      <th></th>\n",
       "      <th>Name</th>\n",
       "      <th>Age</th>\n",
       "      <th>Salary</th>\n",
       "      <th>City</th>\n",
       "    </tr>\n",
       "  </thead>\n",
       "  <tbody>\n",
       "    <tr>\n",
       "      <th>0</th>\n",
       "      <td>Arun</td>\n",
       "      <td>25</td>\n",
       "      <td>50000</td>\n",
       "      <td>Noida</td>\n",
       "    </tr>\n",
       "    <tr>\n",
       "      <th>1</th>\n",
       "      <td>Ravi</td>\n",
       "      <td>30</td>\n",
       "      <td>60000</td>\n",
       "      <td>Delhi</td>\n",
       "    </tr>\n",
       "    <tr>\n",
       "      <th>2</th>\n",
       "      <td>Mohan</td>\n",
       "      <td>22</td>\n",
       "      <td>52000</td>\n",
       "      <td>Mumbai</td>\n",
       "    </tr>\n",
       "    <tr>\n",
       "      <th>3</th>\n",
       "      <td>Sita</td>\n",
       "      <td>28</td>\n",
       "      <td>58000</td>\n",
       "      <td>Chennai</td>\n",
       "    </tr>\n",
       "    <tr>\n",
       "      <th>4</th>\n",
       "      <td>Geeta</td>\n",
       "      <td>24</td>\n",
       "      <td>55000</td>\n",
       "      <td>Pune</td>\n",
       "    </tr>\n",
       "  </tbody>\n",
       "</table>\n",
       "</div>"
      ],
      "text/plain": [
       "    Name  Age  Salary     City\n",
       "0   Arun   25   50000    Noida\n",
       "1   Ravi   30   60000    Delhi\n",
       "2  Mohan   22   52000   Mumbai\n",
       "3   Sita   28   58000  Chennai\n",
       "4  Geeta   24   55000     Pune"
      ]
     },
     "execution_count": 19,
     "metadata": {},
     "output_type": "execute_result"
    }
   ],
   "source": [
    "data_csv"
   ]
  },
  {
   "cell_type": "markdown",
   "id": "03c05965-c085-497e-af5c-d2f2452072e5",
   "metadata": {},
   "source": [
    "data manipulation"
   ]
  },
  {
   "cell_type": "raw",
   "id": "a5e29a3c-443b-46f1-b9cd-369e8e20053e",
   "metadata": {},
   "source": [
    "4. Data Manipulation (Badlav aur Filtering)\n",
    "\n",
    "    Naye column banana: df['new_col'] = df['col1'] + df['col2']\n",
    "    Specific columns select karna: df[['col1', 'col2']]\n",
    "    Rows filter karna: df[df['age'] > 25]\n",
    "    Sort karna: df.sort_values(by='age', ascending=False)\n"
   ]
  },
  {
   "cell_type": "code",
   "execution_count": 1,
   "id": "75d68340-c933-49e7-af9a-2476a15f62d6",
   "metadata": {},
   "outputs": [],
   "source": [
    "import pandas as pd\n",
    "\n",
    "# Creating the DataFrame\n",
    "data = {\n",
    "    \n",
    "    'Name': ['Arun', 'Ravi', 'Mohan', 'Sita', 'Geeta'],\n",
    "    'Age': [25, 30, 22, 28, 24],\n",
    "    'Salary': [50000, 60000, 52000, 58000, 55000],\n",
    "    'City': ['Noida', 'Delhi', 'Mumbai', 'Chennai', 'Pune']\n",
    "}\n",
    "\n",
    "df = pd.DataFrame(data)"
   ]
  },
  {
   "cell_type": "code",
   "execution_count": 2,
   "id": "4dfe3db5-a7f5-47b8-92a3-d7ead51467f3",
   "metadata": {},
   "outputs": [
    {
     "data": {
      "text/html": [
       "<div>\n",
       "<style scoped>\n",
       "    .dataframe tbody tr th:only-of-type {\n",
       "        vertical-align: middle;\n",
       "    }\n",
       "\n",
       "    .dataframe tbody tr th {\n",
       "        vertical-align: top;\n",
       "    }\n",
       "\n",
       "    .dataframe thead th {\n",
       "        text-align: right;\n",
       "    }\n",
       "</style>\n",
       "<table border=\"1\" class=\"dataframe\">\n",
       "  <thead>\n",
       "    <tr style=\"text-align: right;\">\n",
       "      <th></th>\n",
       "      <th>Name</th>\n",
       "      <th>Age</th>\n",
       "      <th>Salary</th>\n",
       "      <th>City</th>\n",
       "    </tr>\n",
       "  </thead>\n",
       "  <tbody>\n",
       "    <tr>\n",
       "      <th>0</th>\n",
       "      <td>Arun</td>\n",
       "      <td>25</td>\n",
       "      <td>50000</td>\n",
       "      <td>Noida</td>\n",
       "    </tr>\n",
       "    <tr>\n",
       "      <th>1</th>\n",
       "      <td>Ravi</td>\n",
       "      <td>30</td>\n",
       "      <td>60000</td>\n",
       "      <td>Delhi</td>\n",
       "    </tr>\n",
       "    <tr>\n",
       "      <th>2</th>\n",
       "      <td>Mohan</td>\n",
       "      <td>22</td>\n",
       "      <td>52000</td>\n",
       "      <td>Mumbai</td>\n",
       "    </tr>\n",
       "    <tr>\n",
       "      <th>3</th>\n",
       "      <td>Sita</td>\n",
       "      <td>28</td>\n",
       "      <td>58000</td>\n",
       "      <td>Chennai</td>\n",
       "    </tr>\n",
       "    <tr>\n",
       "      <th>4</th>\n",
       "      <td>Geeta</td>\n",
       "      <td>24</td>\n",
       "      <td>55000</td>\n",
       "      <td>Pune</td>\n",
       "    </tr>\n",
       "  </tbody>\n",
       "</table>\n",
       "</div>"
      ],
      "text/plain": [
       "    Name  Age  Salary     City\n",
       "0   Arun   25   50000    Noida\n",
       "1   Ravi   30   60000    Delhi\n",
       "2  Mohan   22   52000   Mumbai\n",
       "3   Sita   28   58000  Chennai\n",
       "4  Geeta   24   55000     Pune"
      ]
     },
     "execution_count": 2,
     "metadata": {},
     "output_type": "execute_result"
    }
   ],
   "source": [
    "df"
   ]
  },
  {
   "cell_type": "code",
   "execution_count": 3,
   "id": "d4a1448a-8b6d-4740-be84-20bbe6750b6f",
   "metadata": {},
   "outputs": [],
   "source": [
    "# 1. Adding a new column 'Bonus' (10% of Salary)\n",
    "df['Bonus'] = df['Salary'] * 0.10"
   ]
  },
  {
   "cell_type": "code",
   "execution_count": 4,
   "id": "42b5bd3c-f248-4eee-8fc1-7677d54bf6aa",
   "metadata": {},
   "outputs": [
    {
     "data": {
      "text/html": [
       "<div>\n",
       "<style scoped>\n",
       "    .dataframe tbody tr th:only-of-type {\n",
       "        vertical-align: middle;\n",
       "    }\n",
       "\n",
       "    .dataframe tbody tr th {\n",
       "        vertical-align: top;\n",
       "    }\n",
       "\n",
       "    .dataframe thead th {\n",
       "        text-align: right;\n",
       "    }\n",
       "</style>\n",
       "<table border=\"1\" class=\"dataframe\">\n",
       "  <thead>\n",
       "    <tr style=\"text-align: right;\">\n",
       "      <th></th>\n",
       "      <th>Name</th>\n",
       "      <th>Age</th>\n",
       "      <th>Salary</th>\n",
       "      <th>City</th>\n",
       "      <th>Bonus</th>\n",
       "    </tr>\n",
       "  </thead>\n",
       "  <tbody>\n",
       "    <tr>\n",
       "      <th>0</th>\n",
       "      <td>Arun</td>\n",
       "      <td>25</td>\n",
       "      <td>50000</td>\n",
       "      <td>Noida</td>\n",
       "      <td>5000.0</td>\n",
       "    </tr>\n",
       "    <tr>\n",
       "      <th>1</th>\n",
       "      <td>Ravi</td>\n",
       "      <td>30</td>\n",
       "      <td>60000</td>\n",
       "      <td>Delhi</td>\n",
       "      <td>6000.0</td>\n",
       "    </tr>\n",
       "    <tr>\n",
       "      <th>2</th>\n",
       "      <td>Mohan</td>\n",
       "      <td>22</td>\n",
       "      <td>52000</td>\n",
       "      <td>Mumbai</td>\n",
       "      <td>5200.0</td>\n",
       "    </tr>\n",
       "    <tr>\n",
       "      <th>3</th>\n",
       "      <td>Sita</td>\n",
       "      <td>28</td>\n",
       "      <td>58000</td>\n",
       "      <td>Chennai</td>\n",
       "      <td>5800.0</td>\n",
       "    </tr>\n",
       "    <tr>\n",
       "      <th>4</th>\n",
       "      <td>Geeta</td>\n",
       "      <td>24</td>\n",
       "      <td>55000</td>\n",
       "      <td>Pune</td>\n",
       "      <td>5500.0</td>\n",
       "    </tr>\n",
       "  </tbody>\n",
       "</table>\n",
       "</div>"
      ],
      "text/plain": [
       "    Name  Age  Salary     City   Bonus\n",
       "0   Arun   25   50000    Noida  5000.0\n",
       "1   Ravi   30   60000    Delhi  6000.0\n",
       "2  Mohan   22   52000   Mumbai  5200.0\n",
       "3   Sita   28   58000  Chennai  5800.0\n",
       "4  Geeta   24   55000     Pune  5500.0"
      ]
     },
     "execution_count": 4,
     "metadata": {},
     "output_type": "execute_result"
    }
   ],
   "source": [
    "df"
   ]
  },
  {
   "cell_type": "code",
   "execution_count": 5,
   "id": "21e91258-b253-4745-95d6-0662fe0a5d27",
   "metadata": {},
   "outputs": [],
   "source": [
    "# 2. Selecting specific columns (Name and Salary)\n",
    "selected_columns = df[['Name', 'Salary']]\n"
   ]
  },
  {
   "cell_type": "code",
   "execution_count": 6,
   "id": "1892bb99-4dd3-44dd-b6ef-539213da7aa4",
   "metadata": {},
   "outputs": [
    {
     "data": {
      "text/html": [
       "<div>\n",
       "<style scoped>\n",
       "    .dataframe tbody tr th:only-of-type {\n",
       "        vertical-align: middle;\n",
       "    }\n",
       "\n",
       "    .dataframe tbody tr th {\n",
       "        vertical-align: top;\n",
       "    }\n",
       "\n",
       "    .dataframe thead th {\n",
       "        text-align: right;\n",
       "    }\n",
       "</style>\n",
       "<table border=\"1\" class=\"dataframe\">\n",
       "  <thead>\n",
       "    <tr style=\"text-align: right;\">\n",
       "      <th></th>\n",
       "      <th>Name</th>\n",
       "      <th>Salary</th>\n",
       "    </tr>\n",
       "  </thead>\n",
       "  <tbody>\n",
       "    <tr>\n",
       "      <th>0</th>\n",
       "      <td>Arun</td>\n",
       "      <td>50000</td>\n",
       "    </tr>\n",
       "    <tr>\n",
       "      <th>1</th>\n",
       "      <td>Ravi</td>\n",
       "      <td>60000</td>\n",
       "    </tr>\n",
       "    <tr>\n",
       "      <th>2</th>\n",
       "      <td>Mohan</td>\n",
       "      <td>52000</td>\n",
       "    </tr>\n",
       "    <tr>\n",
       "      <th>3</th>\n",
       "      <td>Sita</td>\n",
       "      <td>58000</td>\n",
       "    </tr>\n",
       "    <tr>\n",
       "      <th>4</th>\n",
       "      <td>Geeta</td>\n",
       "      <td>55000</td>\n",
       "    </tr>\n",
       "  </tbody>\n",
       "</table>\n",
       "</div>"
      ],
      "text/plain": [
       "    Name  Salary\n",
       "0   Arun   50000\n",
       "1   Ravi   60000\n",
       "2  Mohan   52000\n",
       "3   Sita   58000\n",
       "4  Geeta   55000"
      ]
     },
     "execution_count": 6,
     "metadata": {},
     "output_type": "execute_result"
    }
   ],
   "source": [
    "selected_columns"
   ]
  },
  {
   "cell_type": "code",
   "execution_count": 10,
   "id": "c214515a-50fc-4fd0-b3ba-3ef65bcd5516",
   "metadata": {},
   "outputs": [
    {
     "data": {
      "text/html": [
       "<div>\n",
       "<style scoped>\n",
       "    .dataframe tbody tr th:only-of-type {\n",
       "        vertical-align: middle;\n",
       "    }\n",
       "\n",
       "    .dataframe tbody tr th {\n",
       "        vertical-align: top;\n",
       "    }\n",
       "\n",
       "    .dataframe thead th {\n",
       "        text-align: right;\n",
       "    }\n",
       "</style>\n",
       "<table border=\"1\" class=\"dataframe\">\n",
       "  <thead>\n",
       "    <tr style=\"text-align: right;\">\n",
       "      <th></th>\n",
       "      <th>Name</th>\n",
       "      <th>Age</th>\n",
       "      <th>Salary</th>\n",
       "      <th>City</th>\n",
       "      <th>Bonus</th>\n",
       "    </tr>\n",
       "  </thead>\n",
       "  <tbody>\n",
       "    <tr>\n",
       "      <th>1</th>\n",
       "      <td>Ravi</td>\n",
       "      <td>30</td>\n",
       "      <td>60000</td>\n",
       "      <td>Delhi</td>\n",
       "      <td>6000.0</td>\n",
       "    </tr>\n",
       "    <tr>\n",
       "      <th>3</th>\n",
       "      <td>Sita</td>\n",
       "      <td>28</td>\n",
       "      <td>58000</td>\n",
       "      <td>Chennai</td>\n",
       "      <td>5800.0</td>\n",
       "    </tr>\n",
       "  </tbody>\n",
       "</table>\n",
       "</div>"
      ],
      "text/plain": [
       "   Name  Age  Salary     City   Bonus\n",
       "1  Ravi   30   60000    Delhi  6000.0\n",
       "3  Sita   28   58000  Chennai  5800.0"
      ]
     },
     "execution_count": 10,
     "metadata": {},
     "output_type": "execute_result"
    }
   ],
   "source": [
    "# 3. Filtering rows (Employees older than 25)\n",
    "#filtered_df = df[df['Age'] > 25]\n",
    "old = df[df['Age'] > 25]\n",
    "old\n"
   ]
  },
  {
   "cell_type": "code",
   "execution_count": 13,
   "id": "0465e3b8-2c79-480d-811f-f06cca1fac97",
   "metadata": {},
   "outputs": [
    {
     "data": {
      "text/html": [
       "<div>\n",
       "<style scoped>\n",
       "    .dataframe tbody tr th:only-of-type {\n",
       "        vertical-align: middle;\n",
       "    }\n",
       "\n",
       "    .dataframe tbody tr th {\n",
       "        vertical-align: top;\n",
       "    }\n",
       "\n",
       "    .dataframe thead th {\n",
       "        text-align: right;\n",
       "    }\n",
       "</style>\n",
       "<table border=\"1\" class=\"dataframe\">\n",
       "  <thead>\n",
       "    <tr style=\"text-align: right;\">\n",
       "      <th></th>\n",
       "      <th>Name</th>\n",
       "      <th>Age</th>\n",
       "      <th>Salary</th>\n",
       "      <th>City</th>\n",
       "      <th>Bonus</th>\n",
       "    </tr>\n",
       "  </thead>\n",
       "  <tbody>\n",
       "    <tr>\n",
       "      <th>1</th>\n",
       "      <td>Ravi</td>\n",
       "      <td>30</td>\n",
       "      <td>60000</td>\n",
       "      <td>Delhi</td>\n",
       "      <td>6000.0</td>\n",
       "    </tr>\n",
       "    <tr>\n",
       "      <th>3</th>\n",
       "      <td>Sita</td>\n",
       "      <td>28</td>\n",
       "      <td>58000</td>\n",
       "      <td>Chennai</td>\n",
       "      <td>5800.0</td>\n",
       "    </tr>\n",
       "    <tr>\n",
       "      <th>0</th>\n",
       "      <td>Arun</td>\n",
       "      <td>25</td>\n",
       "      <td>50000</td>\n",
       "      <td>Noida</td>\n",
       "      <td>5000.0</td>\n",
       "    </tr>\n",
       "    <tr>\n",
       "      <th>4</th>\n",
       "      <td>Geeta</td>\n",
       "      <td>24</td>\n",
       "      <td>55000</td>\n",
       "      <td>Pune</td>\n",
       "      <td>5500.0</td>\n",
       "    </tr>\n",
       "    <tr>\n",
       "      <th>2</th>\n",
       "      <td>Mohan</td>\n",
       "      <td>22</td>\n",
       "      <td>52000</td>\n",
       "      <td>Mumbai</td>\n",
       "      <td>5200.0</td>\n",
       "    </tr>\n",
       "  </tbody>\n",
       "</table>\n",
       "</div>"
      ],
      "text/plain": [
       "    Name  Age  Salary     City   Bonus\n",
       "1   Ravi   30   60000    Delhi  6000.0\n",
       "3   Sita   28   58000  Chennai  5800.0\n",
       "0   Arun   25   50000    Noida  5000.0\n",
       "4  Geeta   24   55000     Pune  5500.0\n",
       "2  Mohan   22   52000   Mumbai  5200.0"
      ]
     },
     "execution_count": 13,
     "metadata": {},
     "output_type": "execute_result"
    }
   ],
   "source": [
    "# 4. Sorting by Age in descending order\n",
    "#sorted_df = df.sort_values(by='Age', ascending=False)\n",
    "sort_data = df.sort_values(by='Age',ascending=False)\n",
    "sort_data"
   ]
  },
  {
   "cell_type": "code",
   "execution_count": null,
   "id": "3a70e0f9-5c14-4955-b3dd-a9959bdd84f6",
   "metadata": {},
   "outputs": [],
   "source": [
    "# Display the results\n",
    "print(\"DataFrame with Bonus Column:\\n\", df)\n",
    "print(\"\\nSelected Columns (Name, Salary):\\n\", selected_columns)\n",
    "print(\"\\nFiltered Data (Age > 25):\\n\", filtered_df)\n",
    "print(\"\\nSorted Data by Age (Descending):\\n\", sorted_df)\n"
   ]
  },
  {
   "cell_type": "markdown",
   "id": "bed59892-710c-492a-ade7-b92eb96ad4b7",
   "metadata": {},
   "source": [
    "5. Grouping & Aggregation"
   ]
  },
  {
   "cell_type": "raw",
   "id": "8f05ffce-dd24-4b21-bf23-29ceb8f87952",
   "metadata": {},
   "source": [
    "\n",
    "    Group by use karna: df.groupby('category')['sales'].sum()\n",
    "    Pivot table banana: df.pivot_table(values='sales', index='month', columns='category', aggfunc='sum')\n"
   ]
  },
  {
   "cell_type": "code",
   "execution_count": 14,
   "id": "c4ef563e-8905-4c4e-9e0f-9f62b3349c47",
   "metadata": {},
   "outputs": [],
   "source": [
    "import pandas as pd\n",
    "\n",
    "# Creating the DataFrame\n",
    "data = {\n",
    "    'Name': ['Arun', 'Ravi', 'Mohan', 'Sita', 'Geeta'],\n",
    "    'Age': [25, 30, 22, 28, 24],\n",
    "    'Salary': [50000, 60000, 52000, 58000, 55000],\n",
    "    'City': ['Noida', 'Delhi', 'Mumbai', 'Chennai', 'Pune']\n",
    "}\n",
    "\n",
    "df = pd.DataFrame(data)"
   ]
  },
  {
   "cell_type": "code",
   "execution_count": 16,
   "id": "c08ecac1-0cdf-4c9a-9b77-27e7e31723ad",
   "metadata": {},
   "outputs": [
    {
     "data": {
      "text/plain": [
       "City\n",
       "Chennai    58000\n",
       "Delhi      60000\n",
       "Mumbai     52000\n",
       "Noida      50000\n",
       "Pune       55000\n",
       "Name: Salary, dtype: int64"
      ]
     },
     "execution_count": 16,
     "metadata": {},
     "output_type": "execute_result"
    }
   ],
   "source": [
    "# 1. Grouping by 'City' and summing the 'Salary'\n",
    "grouped_df = df.groupby('City')['Salary'].sum()\n",
    "grouped_df"
   ]
  },
  {
   "cell_type": "code",
   "execution_count": 18,
   "id": "a51f5448-a331-42fe-9e48-224889ef6c72",
   "metadata": {},
   "outputs": [
    {
     "data": {
      "text/html": [
       "<div>\n",
       "<style scoped>\n",
       "    .dataframe tbody tr th:only-of-type {\n",
       "        vertical-align: middle;\n",
       "    }\n",
       "\n",
       "    .dataframe tbody tr th {\n",
       "        vertical-align: top;\n",
       "    }\n",
       "\n",
       "    .dataframe thead th {\n",
       "        text-align: right;\n",
       "    }\n",
       "</style>\n",
       "<table border=\"1\" class=\"dataframe\">\n",
       "  <thead>\n",
       "    <tr style=\"text-align: right;\">\n",
       "      <th>Age</th>\n",
       "      <th>22</th>\n",
       "      <th>24</th>\n",
       "      <th>25</th>\n",
       "      <th>28</th>\n",
       "      <th>30</th>\n",
       "    </tr>\n",
       "    <tr>\n",
       "      <th>City</th>\n",
       "      <th></th>\n",
       "      <th></th>\n",
       "      <th></th>\n",
       "      <th></th>\n",
       "      <th></th>\n",
       "    </tr>\n",
       "  </thead>\n",
       "  <tbody>\n",
       "    <tr>\n",
       "      <th>Chennai</th>\n",
       "      <td>NaN</td>\n",
       "      <td>NaN</td>\n",
       "      <td>NaN</td>\n",
       "      <td>58000.0</td>\n",
       "      <td>NaN</td>\n",
       "    </tr>\n",
       "    <tr>\n",
       "      <th>Delhi</th>\n",
       "      <td>NaN</td>\n",
       "      <td>NaN</td>\n",
       "      <td>NaN</td>\n",
       "      <td>NaN</td>\n",
       "      <td>60000.0</td>\n",
       "    </tr>\n",
       "    <tr>\n",
       "      <th>Mumbai</th>\n",
       "      <td>52000.0</td>\n",
       "      <td>NaN</td>\n",
       "      <td>NaN</td>\n",
       "      <td>NaN</td>\n",
       "      <td>NaN</td>\n",
       "    </tr>\n",
       "    <tr>\n",
       "      <th>Noida</th>\n",
       "      <td>NaN</td>\n",
       "      <td>NaN</td>\n",
       "      <td>50000.0</td>\n",
       "      <td>NaN</td>\n",
       "      <td>NaN</td>\n",
       "    </tr>\n",
       "    <tr>\n",
       "      <th>Pune</th>\n",
       "      <td>NaN</td>\n",
       "      <td>55000.0</td>\n",
       "      <td>NaN</td>\n",
       "      <td>NaN</td>\n",
       "      <td>NaN</td>\n",
       "    </tr>\n",
       "  </tbody>\n",
       "</table>\n",
       "</div>"
      ],
      "text/plain": [
       "Age           22       24       25       28       30\n",
       "City                                                \n",
       "Chennai      NaN      NaN      NaN  58000.0      NaN\n",
       "Delhi        NaN      NaN      NaN      NaN  60000.0\n",
       "Mumbai   52000.0      NaN      NaN      NaN      NaN\n",
       "Noida        NaN      NaN  50000.0      NaN      NaN\n",
       "Pune         NaN  55000.0      NaN      NaN      NaN"
      ]
     },
     "execution_count": 18,
     "metadata": {},
     "output_type": "execute_result"
    }
   ],
   "source": [
    "# 2. Creating a Pivot Table (Total Salary based on City and Age)\n",
    "pivot_df = df.pivot_table(values='Salary', index='City', columns='Age', aggfunc='sum')\n",
    "pivot_df\n"
   ]
  },
  {
   "cell_type": "code",
   "execution_count": 19,
   "id": "7e7db520-714b-46e4-88a1-10bec2c98f02",
   "metadata": {},
   "outputs": [
    {
     "name": "stdout",
     "output_type": "stream",
     "text": [
      "Grouped Data (Total Salary by City):\n",
      " City\n",
      "Chennai    58000\n",
      "Delhi      60000\n",
      "Mumbai     52000\n",
      "Noida      50000\n",
      "Pune       55000\n",
      "Name: Salary, dtype: int64\n",
      "\n",
      "Pivot Table (Salary by City & Age):\n",
      " Age           22       24       25       28       30\n",
      "City                                                \n",
      "Chennai      NaN      NaN      NaN  58000.0      NaN\n",
      "Delhi        NaN      NaN      NaN      NaN  60000.0\n",
      "Mumbai   52000.0      NaN      NaN      NaN      NaN\n",
      "Noida        NaN      NaN  50000.0      NaN      NaN\n",
      "Pune         NaN  55000.0      NaN      NaN      NaN\n"
     ]
    }
   ],
   "source": [
    "# Display the results\n",
    "print(\"Grouped Data (Total Salary by City):\\n\", grouped_df)\n",
    "print(\"\\nPivot Table (Salary by City & Age):\\n\", pivot_df)"
   ]
  },
  {
   "cell_type": "code",
   "execution_count": null,
   "id": "7c02e2ed-e715-4759-a24d-648b2089bfe8",
   "metadata": {},
   "outputs": [],
   "source": []
  }
 ],
 "metadata": {
  "kernelspec": {
   "display_name": "Python 3 (ipykernel)",
   "language": "python",
   "name": "python3"
  },
  "language_info": {
   "codemirror_mode": {
    "name": "ipython",
    "version": 3
   },
   "file_extension": ".py",
   "mimetype": "text/x-python",
   "name": "python",
   "nbconvert_exporter": "python",
   "pygments_lexer": "ipython3",
   "version": "3.11.7"
  }
 },
 "nbformat": 4,
 "nbformat_minor": 5
}
